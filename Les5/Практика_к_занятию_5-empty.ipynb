{
 "cells": [
  {
   "cell_type": "markdown",
   "metadata": {
    "id": "pDrecLU-4QjS"
   },
   "source": [
    "# Практика"
   ]
  },
  {
   "cell_type": "code",
   "execution_count": 40,
   "metadata": {
    "id": "a6XFMuQUG6jO"
   },
   "outputs": [],
   "source": [
    "import pandas as pd\n",
    "import numpy as np\n",
    "import matplotlib.pyplot as plt\n",
    "import scipy.stats as sts\n",
    "import math\n",
    "from statsmodels.stats.weightstats import _zconfint_generic\n",
    "%matplotlib inline"
   ]
  },
  {
   "cell_type": "markdown",
   "metadata": {
    "id": "5owLnS0MHJnz"
   },
   "source": [
    "## ЦПТ для различных распределений\n",
    "Возьмите то непрерывное распределение, которое вам больше всего понравится из списка доступных в модуле [scipy.stats](https://docs.scipy.org/doc/scipy/reference/stats.html)."
   ]
  },
  {
   "cell_type": "markdown",
   "metadata": {
    "id": "v1IvIGF9IRgH"
   },
   "source": [
    "### Сгенерируйте примеры из распределения"
   ]
  },
  {
   "cell_type": "code",
   "execution_count": 13,
   "metadata": {
    "colab": {
     "base_uri": "https://localhost:8080/",
     "height": 377
    },
    "id": "l4oTC1NSHvl7",
    "outputId": "52df1553-6d91-4452-9ade-e2a62a8d7ff2"
   },
   "outputs": [
    {
     "data": {
      "text/plain": "array([1.26936760e+00, 3.43962889e-01, 3.83727807e+00, 2.00974873e-01,\n       6.22573283e-01, 1.03656664e+00, 1.73231169e-01, 1.10403431e+00,\n       9.72285815e-01, 1.23411886e+00, 1.47620537e+00, 1.23064633e+00,\n       3.59928391e+00, 6.01041558e-01, 2.54360664e+00, 7.38813313e-01,\n       9.56615336e+00, 9.76715503e-01, 6.36567405e-01, 1.42578683e-01,\n       1.45814339e-02, 6.03668141e-01, 9.38079077e-01, 5.88165512e-01,\n       3.28083255e-01, 8.11142941e-01, 8.99062624e-01, 4.73772063e+00,\n       6.08216195e-01, 3.80363003e-01, 2.68386261e+00, 1.54407994e+00,\n       1.32507356e-01, 3.08504735e-01, 2.87211398e-01, 2.53433786e-01,\n       1.09488208e+00, 1.42769566e+01, 9.22784365e-01, 2.95932375e+01,\n       9.36691540e-02, 5.84271355e-01, 8.23071364e-01, 1.52551895e-01,\n       1.62977920e-01, 6.81638679e-01, 6.21795529e-01, 3.20962865e+00,\n       1.03272609e+00, 1.24679825e+00, 1.90221075e+01, 1.05668344e+00,\n       7.08276993e-01, 2.82128148e+00, 5.83265478e-01, 9.19675955e+00,\n       9.36323510e-01, 8.52532294e-02, 8.19424988e-01, 2.87809710e+00,\n       3.30741273e-02, 5.21765439e-01, 4.36621848e+00, 2.71713197e-01,\n       1.36616583e+00, 8.87004560e-01, 2.51425701e+00, 6.81622794e-01,\n       2.87098260e+00, 7.36489617e+00, 8.04153288e-03, 2.61079777e+01,\n       1.06369269e+00, 3.89815540e+00, 4.33783728e+00, 1.51864374e+00,\n       4.78216414e+00, 4.58827930e-01, 2.11557715e+00, 2.56071842e-01,\n       9.24427690e-01, 1.24762259e-01, 1.73294827e+00, 2.42364415e+00,\n       2.54353721e+00, 3.98617419e+00, 1.93313672e-01, 6.89939161e+00,\n       6.23370669e-03, 7.75948666e-01, 2.83113508e+01, 1.12217283e+00,\n       3.92836003e-02, 1.08042824e-01, 3.37116759e+00, 8.21954207e+00,\n       2.33675798e+00, 4.34310155e-01, 1.48130316e+00, 5.16294645e-01])"
     },
     "execution_count": 13,
     "metadata": {},
     "output_type": "execute_result"
    }
   ],
   "source": [
    "# ваш код тут\n",
    "# например вот такое распределение https://docs.scipy.org/doc/scipy/reference/generated/scipy.stats.cosine.html#scipy.stats.halfcauchy\n",
    "halfcauchy_rv = sts.halfcauchy()\n",
    "sample = halfcauchy_rv.rvs(100)\n",
    "sample"
   ]
  },
  {
   "cell_type": "code",
   "execution_count": 14,
   "metadata": {
    "colab": {
     "base_uri": "https://localhost:8080/",
     "height": 35
    },
    "id": "ScsjsI4oXgKR",
    "outputId": "86833794-f43b-436e-a0e4-c3b7483df016"
   },
   "outputs": [
    {
     "data": {
      "text/plain": "dtype('float64')"
     },
     "execution_count": 14,
     "metadata": {},
     "output_type": "execute_result"
    }
   ],
   "source": [
    "sample.dtype #определяем тип данных"
   ]
  },
  {
   "cell_type": "code",
   "execution_count": 15,
   "metadata": {
    "id": "pXTNSqAOCYX4"
   },
   "outputs": [
    {
     "data": {
      "text/plain": "inf"
     },
     "execution_count": 15,
     "metadata": {},
     "output_type": "execute_result"
    }
   ],
   "source": [
    "real_mean = halfcauchy_rv.mean() # настоящее среднее случайной величины\n",
    "real_mean"
   ]
  },
  {
   "cell_type": "code",
   "execution_count": 16,
   "metadata": {
    "id": "5x4hFKaUCWSY"
   },
   "outputs": [
    {
     "data": {
      "text/plain": "inf"
     },
     "execution_count": 16,
     "metadata": {},
     "output_type": "execute_result"
    }
   ],
   "source": [
    "real_var = halfcauchy_rv.var() # настоящая дисперсия случайной величины\n",
    "real_var"
   ]
  },
  {
   "cell_type": "code",
   "execution_count": 17,
   "outputs": [
    {
     "name": "stdout",
     "output_type": "stream",
     "text": [
      "inf\n"
     ]
    }
   ],
   "source": [
    "real_std = halfcauchy_rv.std() # настоящая дисперсия случайной величины\n",
    "print(real_std)"
   ],
   "metadata": {
    "collapsed": false,
    "pycharm": {
     "name": "#%%\n"
    }
   }
  },
  {
   "cell_type": "markdown",
   "metadata": {
    "id": "4bNn15giIX77"
   },
   "source": [
    "### Постройте гистограмму выборки и теоретическую плотность распределения"
   ]
  },
  {
   "cell_type": "code",
   "execution_count": 19,
   "metadata": {
    "colab": {
     "base_uri": "https://localhost:8080/",
     "height": 283
    },
    "id": "CwbvqecvIcXN",
    "outputId": "ace01d5d-2552-499b-bc4f-1eb19166af83"
   },
   "outputs": [
    {
     "data": {
      "text/plain": "<matplotlib.legend.Legend at 0x268a9362820>"
     },
     "execution_count": 19,
     "metadata": {},
     "output_type": "execute_result"
    },
    {
     "data": {
      "text/plain": "<Figure size 432x288 with 1 Axes>",
      "image/png": "[encoded data removed]"
     },
     "metadata": {
      "needs_background": "light"
     },
     "output_type": "display_data"
    }
   ],
   "source": [
    "# ваш код тут\n",
    "plt.hist(sample, density=True)\n",
    "x = np.linspace(-4,4,100)\n",
    "pdf = halfcauchy_rv.pdf(x)\n",
    "plt.plot(x, pdf, label='теоретическая плотность', alpha=0.5)\n",
    "plt.legend()"
   ]
  },
  {
   "cell_type": "code",
   "execution_count": 20,
   "metadata": {
    "colab": {
     "base_uri": "https://localhost:8080/",
     "height": 51
    },
    "id": "rKd5XFelBqe7",
    "outputId": "32773b82-a3e9-46a2-b06d-a94d667d4f66"
   },
   "outputs": [
    {
     "name": "stdout",
     "output_type": "stream",
     "text": [
      "2.710044475417825\n",
      "28.11019245623121\n",
      "5.301904606481638\n"
     ]
    }
   ],
   "source": [
    "sample_mean = sample.mean() # выборочное среднее\n",
    "print(sample_mean)\n",
    "sample_var = sample.var() # выборочная дисперсия\n",
    "print(sample_var)\n",
    "sample_std = sample.std()\n",
    "print(sample_std)"
   ]
  },
  {
   "cell_type": "markdown",
   "metadata": {
    "id": "qPuHR68NId_Z"
   },
   "source": [
    "### Оценим распределение выборочного среднего для разных объёмов выборок\n",
    "Для этого постройте на одном полотне гистограмму выборочных средних и теоретическое распределение выборочных средних по ЦПТ для разных объёмов выборок.\n",
    "\n",
    "Для теоретического распределение используйте настоящие значения мат ожидания и дисперсии (не приближенные на основе выборки)."
   ]
  },
  {
   "cell_type": "code",
   "execution_count": 24,
   "metadata": {
    "id": "_mB8upK7J58w"
   },
   "outputs": [
    {
     "name": "stderr",
     "output_type": "stream",
     "text": [
      "C:\\Users\\MrWind\\anaconda3\\lib\\site-packages\\scipy\\stats\\_distn_infrastructure.py:1870: RuntimeWarning: invalid value encountered in true_divide\n",
      "  x = np.asarray((x - loc)/scale, dtype=dtyp)\n"
     ]
    },
    {
     "data": {
      "text/plain": "<Figure size 1152x648 with 0 Axes>"
     },
     "metadata": {},
     "output_type": "display_data"
    },
    {
     "data": {
      "text/plain": "<Figure size 1152x648 with 1 Axes>",
      "image/png": "[encoded data removed]"
     },
     "metadata": {
      "needs_background": "light"
     },
     "output_type": "display_data"
    },
    {
     "name": "stderr",
     "output_type": "stream",
     "text": [
      "C:\\Users\\MrWind\\anaconda3\\lib\\site-packages\\scipy\\stats\\_distn_infrastructure.py:1870: RuntimeWarning: invalid value encountered in true_divide\n",
      "  x = np.asarray((x - loc)/scale, dtype=dtyp)\n"
     ]
    },
    {
     "data": {
      "text/plain": "<Figure size 1152x648 with 1 Axes>",
      "image/png": "[encoded data removed]"
     },
     "metadata": {
      "needs_background": "light"
     },
     "output_type": "display_data"
    },
    {
     "name": "stderr",
     "output_type": "stream",
     "text": [
      "C:\\Users\\MrWind\\anaconda3\\lib\\site-packages\\scipy\\stats\\_distn_infrastructure.py:1870: RuntimeWarning: invalid value encountered in true_divide\n",
      "  x = np.asarray((x - loc)/scale, dtype=dtyp)\n"
     ]
    },
    {
     "data": {
      "text/plain": "<Figure size 1152x648 with 1 Axes>",
      "image/png": "[encoded data removed]"
     },
     "metadata": {
      "needs_background": "light"
     },
     "output_type": "display_data"
    },
    {
     "name": "stderr",
     "output_type": "stream",
     "text": [
      "C:\\Users\\MrWind\\anaconda3\\lib\\site-packages\\scipy\\stats\\_distn_infrastructure.py:1870: RuntimeWarning: invalid value encountered in true_divide\n",
      "  x = np.asarray((x - loc)/scale, dtype=dtyp)\n"
     ]
    },
    {
     "data": {
      "text/plain": "<Figure size 1152x648 with 1 Axes>",
      "image/png": "[encoded data removed]"
     },
     "metadata": {
      "needs_background": "light"
     },
     "output_type": "display_data"
    }
   ],
   "source": [
    "# ваш код тут\n",
    "\n",
    "\n",
    "plt.figure(figsize=(16,9))\n",
    "# сгенерируем выборочные средние\n",
    "for N in [5, 10, 20, 30]:\n",
    "    means = []\n",
    "    for i in range(100):\n",
    "         means.append(np.mean(halfcauchy_rv.rvs(N)))\n",
    "    plt.figure(figsize=(16,9))\n",
    "    plt.hist(means, alpha=0.5, label='Средняя выборка' + str(N))\n",
    "    mean = np.mean(means)\n",
    "    std = np.std(means)\n",
    "    norm_rv = sts.norm(loc=real_mean, scale=real_std / np.sqrt(N))\n",
    "    x = np.linspace(1, 100, 100)\n",
    "    pdf = norm_rv.pdf(x)\n",
    "    plt.plot(x, pdf, label='Теоретическая плотность')\n",
    "    plt.legend()\n",
    "    plt.show()\n",
    "\n",
    "\n",
    "\n",
    "\n"
   ]
  },
  {
   "cell_type": "markdown",
   "metadata": {
    "id": "TF1onBy_J7sX"
   },
   "source": [
    "Как вы считаете, для выбранного распределения апроксимация распределения выборочного среднего работает хорошо или плохо?\n",
    "**Ваш ответ:**"
   ]
  },
  {
   "cell_type": "code",
   "execution_count": null,
   "metadata": {
    "id": "1BEsK495KIuM"
   },
   "outputs": [],
   "source": [
    "# Нет понимания работы распределения выборочного, потому что не удается вычислить теоретическую плотность"
   ]
  },
  {
   "cell_type": "markdown",
   "metadata": {
    "id": "xEyWxfjSfxGp"
   },
   "source": [
    "## Доверительный интервал на основе ЦПТ\n",
    "Возьмите данные для оттока телеком компании, и постройте доверительные интервалы для среднего значения total day calls, используя центральную предельную теорему в разбиении по колонке churn (ушел/не ушел). \n",
    "\n",
    "Для оценки дисперсии используйте несмещенную оценку (параметр ddof=1).\n",
    "\n",
    "Сделайте оценку с использованием явной формулы для z интервала, а затем с помощью функций \n",
    "`from statsmodels.stats.weightstats import _zconfint_generic`. Сравните результаты.\n",
    "\n",
    "\n",
    "Ссылка на данные: https://drive.google.com/file/d/1X_drKqoarnU2Sz2har7uSCsgyhh8Xtz8/view?usp=sharing"
   ]
  },
  {
   "cell_type": "code",
   "execution_count": 77,
   "metadata": {},
   "outputs": [
    {
     "data": {
      "text/plain": "     state  account length  area code phone number international plan  \\\n0       KS             128        415     382-4657                 no   \n1       OH             107        415     371-7191                 no   \n2       NJ             137        415     358-1921                 no   \n3       OH              84        408     375-9999                yes   \n4       OK              75        415     330-6626                yes   \n...    ...             ...        ...          ...                ...   \n3328    AZ             192        415     414-4276                 no   \n3329    WV              68        415     370-3271                 no   \n3330    RI              28        510     328-8230                 no   \n3331    CT             184        510     364-6381                yes   \n3332    TN              74        415     400-4344                 no   \n\n     voice mail plan  number vmail messages  total day minutes  \\\n0                yes                     25              265.1   \n1                yes                     26              161.6   \n2                 no                      0              243.4   \n3                 no                      0              299.4   \n4                 no                      0              166.7   \n...              ...                    ...                ...   \n3328             yes                     36              156.2   \n3329              no                      0              231.1   \n3330              no                      0              180.8   \n3331              no                      0              213.8   \n3332             yes                     25              234.4   \n\n      total day calls  total day charge  ...  total eve calls  \\\n0                 110             45.07  ...               99   \n1                 123             27.47  ...              103   \n2                 114             41.38  ...              110   \n3                  71             50.90  ...               88   \n4                 113             28.34  ...              122   \n...               ...               ...  ...              ...   \n3328               77             26.55  ...              126   \n3329               57             39.29  ...               55   \n3330              109             30.74  ...               58   \n3331              105             36.35  ...               84   \n3332              113             39.85  ...               82   \n\n      total eve charge  total night minutes  total night calls  \\\n0                16.78                244.7                 91   \n1                16.62                254.4                103   \n2                10.30                162.6                104   \n3                 5.26                196.9                 89   \n4                12.61                186.9                121   \n...                ...                  ...                ...   \n3328             18.32                279.1                 83   \n3329             13.04                191.3                123   \n3330             24.55                191.9                 91   \n3331             13.57                139.2                137   \n3332             22.60                241.4                 77   \n\n      total night charge  total intl minutes  total intl calls  \\\n0                  11.01                10.0                 3   \n1                  11.45                13.7                 3   \n2                   7.32                12.2                 5   \n3                   8.86                 6.6                 7   \n4                   8.41                10.1                 3   \n...                  ...                 ...               ...   \n3328               12.56                 9.9                 6   \n3329                8.61                 9.6                 4   \n3330                8.64                14.1                 6   \n3331                6.26                 5.0                10   \n3332               10.86                13.7                 4   \n\n      total intl charge  customer service calls  churn  \n0                  2.70                       1  False  \n1                  3.70                       1  False  \n2                  3.29                       0  False  \n3                  1.78                       2  False  \n4                  2.73                       3  False  \n...                 ...                     ...    ...  \n3328               2.67                       2  False  \n3329               2.59                       3  False  \n3330               3.81                       2  False  \n3331               1.35                       2  False  \n3332               3.70                       0  False  \n\n[3333 rows x 21 columns]",
      "text/html": "<div>\n<style scoped>\n    .dataframe tbody tr th:only-of-type {\n        vertical-align: middle;\n    }\n\n    .dataframe tbody tr th {\n        vertical-align: top;\n    }\n\n    .dataframe thead th {\n        text-align: right;\n    }\n</style>\n<table border=\"1\" class=\"dataframe\">\n  <thead>\n    <tr style=\"text-align: right;\">\n      <th></th>\n      <th>state</th>\n      <th>account length</th>\n      <th>area code</th>\n      <th>phone number</th>\n      <th>international plan</th>\n      <th>voice mail plan</th>\n      <th>number vmail messages</th>\n      <th>total day minutes</th>\n      <th>total day calls</th>\n      <th>total day charge</th>\n      <th>...</th>\n      <th>total eve calls</th>\n      <th>total eve charge</th>\n      <th>total night minutes</th>\n      <th>total night calls</th>\n      <th>total night charge</th>\n      <th>total intl minutes</th>\n      <th>total intl calls</th>\n      <th>total intl charge</th>\n      <th>customer service calls</th>\n      <th>churn</th>\n    </tr>\n  </thead>\n  <tbody>\n    <tr>\n      <th>0</th>\n      <td>KS</td>\n      <td>128</td>\n      <td>415</td>\n      <td>382-4657</td>\n      <td>no</td>\n      <td>yes</td>\n      <td>25</td>\n      <td>265.1</td>\n      <td>110</td>\n      <td>45.07</td>\n      <td>...</td>\n      <td>99</td>\n      <td>16.78</td>\n      <td>244.7</td>\n      <td>91</td>\n      <td>11.01</td>\n      <td>10.0</td>\n      <td>3</td>\n      <td>2.70</td>\n      <td>1</td>\n      <td>False</td>\n    </tr>\n    <tr>\n      <th>1</th>\n      <td>OH</td>\n      <td>107</td>\n      <td>415</td>\n      <td>371-7191</td>\n      <td>no</td>\n      <td>yes</td>\n      <td>26</td>\n      <td>161.6</td>\n      <td>123</td>\n      <td>27.47</td>\n      <td>...</td>\n      <td>103</td>\n      <td>16.62</td>\n      <td>254.4</td>\n      <td>103</td>\n      <td>11.45</td>\n      <td>13.7</td>\n      <td>3</td>\n      <td>3.70</td>\n      <td>1</td>\n      <td>False</td>\n    </tr>\n    <tr>\n      <th>2</th>\n      <td>NJ</td>\n      <td>137</td>\n      <td>415</td>\n      <td>358-1921</td>\n      <td>no</td>\n      <td>no</td>\n      <td>0</td>\n      <td>243.4</td>\n      <td>114</td>\n      <td>41.38</td>\n      <td>...</td>\n      <td>110</td>\n      <td>10.30</td>\n      <td>162.6</td>\n      <td>104</td>\n      <td>7.32</td>\n      <td>12.2</td>\n      <td>5</td>\n      <td>3.29</td>\n      <td>0</td>\n      <td>False</td>\n    </tr>\n    <tr>\n      <th>3</th>\n      <td>OH</td>\n      <td>84</td>\n      <td>408</td>\n      <td>375-9999</td>\n      <td>yes</td>\n      <td>no</td>\n      <td>0</td>\n      <td>299.4</td>\n      <td>71</td>\n      <td>50.90</td>\n      <td>...</td>\n      <td>88</td>\n      <td>5.26</td>\n      <td>196.9</td>\n      <td>89</td>\n      <td>8.86</td>\n      <td>6.6</td>\n      <td>7</td>\n      <td>1.78</td>\n      <td>2</td>\n      <td>False</td>\n    </tr>\n    <tr>\n      <th>4</th>\n      <td>OK</td>\n      <td>75</td>\n      <td>415</td>\n      <td>330-6626</td>\n      <td>yes</td>\n      <td>no</td>\n      <td>0</td>\n      <td>166.7</td>\n      <td>113</td>\n      <td>28.34</td>\n      <td>...</td>\n      <td>122</td>\n      <td>12.61</td>\n      <td>186.9</td>\n      <td>121</td>\n      <td>8.41</td>\n      <td>10.1</td>\n      <td>3</td>\n      <td>2.73</td>\n      <td>3</td>\n      <td>False</td>\n    </tr>\n    <tr>\n      <th>...</th>\n      <td>...</td>\n      <td>...</td>\n      <td>...</td>\n      <td>...</td>\n      <td>...</td>\n      <td>...</td>\n      <td>...</td>\n      <td>...</td>\n      <td>...</td>\n      <td>...</td>\n      <td>...</td>\n      <td>...</td>\n      <td>...</td>\n      <td>...</td>\n      <td>...</td>\n      <td>...</td>\n      <td>...</td>\n      <td>...</td>\n      <td>...</td>\n      <td>...</td>\n      <td>...</td>\n    </tr>\n    <tr>\n      <th>3328</th>\n      <td>AZ</td>\n      <td>192</td>\n      <td>415</td>\n      <td>414-4276</td>\n      <td>no</td>\n      <td>yes</td>\n      <td>36</td>\n      <td>156.2</td>\n      <td>77</td>\n      <td>26.55</td>\n      <td>...</td>\n      <td>126</td>\n      <td>18.32</td>\n      <td>279.1</td>\n      <td>83</td>\n      <td>12.56</td>\n      <td>9.9</td>\n      <td>6</td>\n      <td>2.67</td>\n      <td>2</td>\n      <td>False</td>\n    </tr>\n    <tr>\n      <th>3329</th>\n      <td>WV</td>\n      <td>68</td>\n      <td>415</td>\n      <td>370-3271</td>\n      <td>no</td>\n      <td>no</td>\n      <td>0</td>\n      <td>231.1</td>\n      <td>57</td>\n      <td>39.29</td>\n      <td>...</td>\n      <td>55</td>\n      <td>13.04</td>\n      <td>191.3</td>\n      <td>123</td>\n      <td>8.61</td>\n      <td>9.6</td>\n      <td>4</td>\n      <td>2.59</td>\n      <td>3</td>\n      <td>False</td>\n    </tr>\n    <tr>\n      <th>3330</th>\n      <td>RI</td>\n      <td>28</td>\n      <td>510</td>\n      <td>328-8230</td>\n      <td>no</td>\n      <td>no</td>\n      <td>0</td>\n      <td>180.8</td>\n      <td>109</td>\n      <td>30.74</td>\n      <td>...</td>\n      <td>58</td>\n      <td>24.55</td>\n      <td>191.9</td>\n      <td>91</td>\n      <td>8.64</td>\n      <td>14.1</td>\n      <td>6</td>\n      <td>3.81</td>\n      <td>2</td>\n      <td>False</td>\n    </tr>\n    <tr>\n      <th>3331</th>\n      <td>CT</td>\n      <td>184</td>\n      <td>510</td>\n      <td>364-6381</td>\n      <td>yes</td>\n      <td>no</td>\n      <td>0</td>\n      <td>213.8</td>\n      <td>105</td>\n      <td>36.35</td>\n      <td>...</td>\n      <td>84</td>\n      <td>13.57</td>\n      <td>139.2</td>\n      <td>137</td>\n      <td>6.26</td>\n      <td>5.0</td>\n      <td>10</td>\n      <td>1.35</td>\n      <td>2</td>\n      <td>False</td>\n    </tr>\n    <tr>\n      <th>3332</th>\n      <td>TN</td>\n      <td>74</td>\n      <td>415</td>\n      <td>400-4344</td>\n      <td>no</td>\n      <td>yes</td>\n      <td>25</td>\n      <td>234.4</td>\n      <td>113</td>\n      <td>39.85</td>\n      <td>...</td>\n      <td>82</td>\n      <td>22.60</td>\n      <td>241.4</td>\n      <td>77</td>\n      <td>10.86</td>\n      <td>13.7</td>\n      <td>4</td>\n      <td>3.70</td>\n      <td>0</td>\n      <td>False</td>\n    </tr>\n  </tbody>\n</table>\n<p>3333 rows × 21 columns</p>\n</div>"
     },
     "metadata": {},
     "output_type": "display_data"
    }
   ],
   "source": [
    "# либо загружаем из альтернативного хранилища\n",
    "url =\"https://raw.githubusercontent.com/piton1/DS/Lesson_5/telecom_churn.csv\"\n",
    "df=pd.read_csv(url)\n",
    "display(df)\n"
   ]
  },
  {
   "cell_type": "code",
   "execution_count": 78,
   "outputs": [
    {
     "data": {
      "text/plain": "<Figure size 432x288 with 1 Axes>",
      "image/png": "[encoded data removed]"
     },
     "metadata": {
      "needs_background": "light"
     },
     "output_type": "display_data"
    }
   ],
   "source": [
    "df_true = df.loc[df['churn'] == True, 'total day calls']\n",
    "df_false = df.loc[df['churn'] == False, 'total day calls']\n",
    "plt.hist(df_false, label='Не ушел')\n",
    "plt.hist(df_true, label='Ушел')\n",
    "plt.legend()\n",
    "plt.show()\n"
   ],
   "metadata": {
    "collapsed": false,
    "pycharm": {
     "name": "#%%\n"
    }
   }
  },
  {
   "cell_type": "code",
   "execution_count": 80,
   "outputs": [
    {
     "ename": "TypeError",
     "evalue": "title() missing 1 required positional argument: 'label'",
     "output_type": "error",
     "traceback": [
      "\u001B[1;31m---------------------------------------------------------------------------\u001B[0m",
      "\u001B[1;31mTypeError\u001B[0m                                 Traceback (most recent call last)",
      "\u001B[1;32m~\\AppData\\Local\\Temp/ipykernel_6340/1014913182.py\u001B[0m in \u001B[0;36m<module>\u001B[1;34m\u001B[0m\n\u001B[0;32m     10\u001B[0m \u001B[0mplt\u001B[0m\u001B[1;33m.\u001B[0m\u001B[0mhist\u001B[0m\u001B[1;33m(\u001B[0m\u001B[0mdf_mean_true\u001B[0m\u001B[1;33m,\u001B[0m \u001B[0malpha\u001B[0m\u001B[1;33m=\u001B[0m\u001B[1;36m0.5\u001B[0m\u001B[1;33m,\u001B[0m \u001B[0mlabel\u001B[0m\u001B[1;33m=\u001B[0m\u001B[1;34m'Ушел'\u001B[0m\u001B[1;33m)\u001B[0m\u001B[1;33m\u001B[0m\u001B[1;33m\u001B[0m\u001B[0m\n\u001B[0;32m     11\u001B[0m \u001B[0mplt\u001B[0m\u001B[1;33m.\u001B[0m\u001B[0mhist\u001B[0m\u001B[1;33m(\u001B[0m\u001B[0mdf_mean_false\u001B[0m\u001B[1;33m,\u001B[0m \u001B[0malpha\u001B[0m\u001B[1;33m=\u001B[0m\u001B[1;36m0.5\u001B[0m\u001B[1;33m,\u001B[0m \u001B[0mlabel\u001B[0m\u001B[1;33m=\u001B[0m\u001B[1;34m'Не ушел'\u001B[0m\u001B[1;33m)\u001B[0m\u001B[1;33m\u001B[0m\u001B[1;33m\u001B[0m\u001B[0m\n\u001B[1;32m---> 12\u001B[1;33m \u001B[0mplt\u001B[0m\u001B[1;33m.\u001B[0m\u001B[0mtitle\u001B[0m\u001B[1;33m(\u001B[0m\u001B[1;33m)\u001B[0m\u001B[1;33m\u001B[0m\u001B[1;33m\u001B[0m\u001B[0m\n\u001B[0m\u001B[0;32m     13\u001B[0m \u001B[0mplt\u001B[0m\u001B[1;33m.\u001B[0m\u001B[0mlegend\u001B[0m\u001B[1;33m(\u001B[0m\u001B[1;33m)\u001B[0m\u001B[1;33m\u001B[0m\u001B[1;33m\u001B[0m\u001B[0m\n\u001B[0;32m     14\u001B[0m \u001B[0mplt\u001B[0m\u001B[1;33m.\u001B[0m\u001B[0mshow\u001B[0m\u001B[1;33m(\u001B[0m\u001B[1;33m)\u001B[0m\u001B[1;33m\u001B[0m\u001B[1;33m\u001B[0m\u001B[0m\n",
      "\u001B[1;31mTypeError\u001B[0m: title() missing 1 required positional argument: 'label'"
     ]
    },
    {
     "data": {
      "text/plain": "<Figure size 432x288 with 1 Axes>",
      "image/png": "[encoded data removed]"
     },
     "metadata": {
      "needs_background": "light"
     },
     "output_type": "display_data"
    }
   ],
   "source": [
    "N = 25\n",
    "df_mean_true = []\n",
    "df_mean_false = []\n",
    "\n",
    "for i in range(1000):\n",
    "    df_mean_true.append(np.mean(np.random.choice(df_true, N)))\n",
    "    df_mean_false.append(np.mean(np.random.choice(df_false, N)))\n",
    "\n",
    "plt.figure()\n",
    "plt.hist(df_mean_true, alpha=0.5, label='Ушел')\n",
    "plt.hist(df_mean_false, alpha=0.5, label='Не ушел')\n",
    "plt.title()\n",
    "plt.legend()\n",
    "plt.show()"
   ],
   "metadata": {
    "collapsed": false,
    "pycharm": {
     "name": "#%%\n"
    }
   }
  },
  {
   "cell_type": "code",
   "execution_count": 81,
   "outputs": [
    {
     "name": "stdout",
     "output_type": "stream",
     "text": [
      "21.58230721307551\n",
      "19.801156951805503\n"
     ]
    }
   ],
   "source": [
    "# оценить дисперсию по несмещенной оценке ddof=1\n",
    "df_true_ddof = np.std(df_true, ddof = 1)\n",
    "df_false_ddof = np.std(df_false, ddof = 1)\n",
    "\n",
    "print (df_true_ddof)\n",
    "print (df_false_ddof)"
   ],
   "metadata": {
    "collapsed": false,
    "pycharm": {
     "name": "#%%\n"
    }
   }
  },
  {
   "cell_type": "code",
   "execution_count": 82,
   "outputs": [
    {
     "name": "stdout",
     "output_type": "stream",
     "text": [
      "(10      136\n",
      "15       66\n",
      "21       88\n",
      "33      117\n",
      "41       84\n",
      "       ... \n",
      "3301    112\n",
      "3304    113\n",
      "3320    100\n",
      "3322    104\n",
      "3323    125\n",
      "Name: total day calls, Length: 483, dtype: int64, 414.38029849104976, 10      138\n",
      "15       68\n",
      "21       90\n",
      "33      119\n",
      "41       86\n",
      "       ... \n",
      "3301    114\n",
      "3304    115\n",
      "3320    102\n",
      "3322    106\n",
      "3323    127\n",
      "Name: total day calls, Length: 483, dtype: int64, 414.38029849104976) (0       109\n",
      "1       122\n",
      "2       113\n",
      "3        70\n",
      "4       112\n",
      "       ... \n",
      "3328     76\n",
      "3329     56\n",
      "3330    108\n",
      "3331    104\n",
      "3332    112\n",
      "Name: total day calls, Length: 2850, dtype: int64, 380.1822134746657, 0       111\n",
      "1       124\n",
      "2       115\n",
      "3        72\n",
      "4       114\n",
      "       ... \n",
      "3328     78\n",
      "3329     58\n",
      "3330    110\n",
      "3331    106\n",
      "3332    114\n",
      "Name: total day calls, Length: 2850, dtype: int64, 380.1822134746657)\n"
     ]
    }
   ],
   "source": [
    "zint_true = df_true - 1,96 * df_true_ddof / np.sqrt(N), df_true + 1,96 * df_true_ddof / np.sqrt(N)\n",
    "zint_false = df_false - 1,96 * df_false_ddof / np.sqrt(N), df_false + 1,96 * df_false_ddof / np.sqrt(N)\n",
    "\n",
    "print(zint_true, zint_false)\n"
   ],
   "metadata": {
    "collapsed": false,
    "pycharm": {
     "name": "#%%\n"
    }
   }
  },
  {
   "cell_type": "code",
   "execution_count": 83,
   "outputs": [
    {
     "name": "stdout",
     "output_type": "stream",
     "text": [
      "(10      128.539891\n",
      "15       58.539891\n",
      "21       80.539891\n",
      "33      109.539891\n",
      "41       76.539891\n",
      "           ...    \n",
      "3301    104.539891\n",
      "3304    105.539891\n",
      "3320     92.539891\n",
      "3322     96.539891\n",
      "3323    117.539891\n",
      "Name: total day calls, Length: 483, dtype: float64, 10      145.460109\n",
      "15       75.460109\n",
      "21       97.460109\n",
      "33      126.460109\n",
      "41       93.460109\n",
      "           ...    \n",
      "3301    121.460109\n",
      "3304    122.460109\n",
      "3320    109.460109\n",
      "3322    113.460109\n",
      "3323    134.460109\n",
      "Name: total day calls, Length: 483, dtype: float64) (0       102.238089\n",
      "1       115.238089\n",
      "2       106.238089\n",
      "3        63.238089\n",
      "4       105.238089\n",
      "           ...    \n",
      "3328     69.238089\n",
      "3329     49.238089\n",
      "3330    101.238089\n",
      "3331     97.238089\n",
      "3332    105.238089\n",
      "Name: total day calls, Length: 2850, dtype: float64, 0       117.761911\n",
      "1       130.761911\n",
      "2       121.761911\n",
      "3        78.761911\n",
      "4       120.761911\n",
      "           ...    \n",
      "3328     84.761911\n",
      "3329     64.761911\n",
      "3330    116.761911\n",
      "3331    112.761911\n",
      "3332    120.761911\n",
      "Name: total day calls, Length: 2850, dtype: float64)\n"
     ]
    }
   ],
   "source": [
    "zconfint_true = _zconfint_generic(df_true, df_true_ddof / np.sqrt(N), 0.05, 'two-sided')\n",
    "zconfint_false = _zconfint_generic(df_false, df_false_ddof / np.sqrt(N), 0.05, 'two-sided')\n",
    "print(zconfint_true, zconfint_false)\n",
    "#Значения поменялись с 138 на 145.460109б с 109 на 102.238089, с 111 на 117.761911, что говорит о более высокой точности подсчета, что дает _zconfint_generic\n",
    "\n"
   ],
   "metadata": {
    "collapsed": false,
    "pycharm": {
     "name": "#%%\n"
    }
   }
  }
 ],
 "metadata": {
  "colab": {
   "collapsed_sections": [],
   "name": "Практика к занятию 12.ipynb",
   "provenance": []
  },
  "kernelspec": {
   "display_name": "Python 3",
   "language": "python",
   "name": "python3"
  },
  "language_info": {
   "codemirror_mode": {
    "name": "ipython",
    "version": 3
   },
   "file_extension": ".py",
   "mimetype": "text/x-python",
   "name": "python",
   "nbconvert_exporter": "python",
   "pygments_lexer": "ipython3",
   "version": "3.8.5"
  }
 },
 "nbformat": 4,
 "nbformat_minor": 1
}