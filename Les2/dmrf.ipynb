{
 "cells": [
  {
   "cell_type": "markdown",
   "source": [
    "# Задание\n",
    "* Собрать информацию о всех строящихся объектах на сайте \"наш.дом.рф\"\n",
    "* Cохранить ее в pandas dataframe\n",
    "* Cохранить pandas dataframe в excel\n",
    "* Cохранить pandas dataframe в pickle\n",
    "* Cохранить pandas dataframe в БД\n",
    "\n",
    "# Задание *\n",
    "* Написать скрипт, который скачивает фотографии всех строящихся объектов с сайта \"наш.дом.рф\"\n"
   ],
   "metadata": {
    "collapsed": false,
    "pycharm": {
     "name": "#%% md\n"
    }
   }
  },
  {
   "cell_type": "code",
   "execution_count": 4,
   "outputs": [],
   "source": [
    "import requests"
   ],
   "metadata": {
    "collapsed": false,
    "pycharm": {
     "name": "#%%\n"
    }
   }
  },
  {
   "cell_type": "markdown",
   "source": [
    "## Список объектов"
   ],
   "metadata": {
    "collapsed": false,
    "pycharm": {
     "name": "#%% md\n"
    }
   }
  },
  {
   "cell_type": "code",
   "execution_count": 5,
   "outputs": [],
   "source": [
    "offset_ = 2001\n",
    "limit_ = 1000\n",
    "url = f'https://xn--80az8a.xn--d1aqf.xn--p1ai/%D1%81%D0%B5%D1%80%D0%B2%D0%B8%D1%81%D1%8B/api/kn/object?offset={offset_}&limit={limit_}&sortField=devId.devShortCleanNm&sortType=asc&objStatus=0'\n",
    "res = requests.get(url)\n",
    "objects_data = res.json()"
   ],
   "metadata": {
    "collapsed": false,
    "pycharm": {
     "name": "#%%\n"
    }
   }
  },
  {
   "cell_type": "code",
   "execution_count": 9,
   "outputs": [
    {
     "ename": "TypeError",
     "evalue": "dict.keys() takes no arguments (1 given)",
     "output_type": "error",
     "traceback": [
      "\u001B[1;31m---------------------------------------------------------------------------\u001B[0m",
      "\u001B[1;31mTypeError\u001B[0m                                 Traceback (most recent call last)",
      "\u001B[1;32m~\\AppData\\Local\\Temp/ipykernel_7132/392599594.py\u001B[0m in \u001B[0;36m<module>\u001B[1;34m\u001B[0m\n\u001B[1;32m----> 1\u001B[1;33m \u001B[0mobjects_data\u001B[0m\u001B[1;33m.\u001B[0m\u001B[0mkeys\u001B[0m\u001B[1;33m(\u001B[0m\u001B[1;34m'data'\u001B[0m\u001B[1;33m)\u001B[0m\u001B[1;33m\u001B[0m\u001B[1;33m\u001B[0m\u001B[0m\n\u001B[0m\u001B[0;32m      2\u001B[0m \u001B[1;33m\u001B[0m\u001B[0m\n",
      "\u001B[1;31mTypeError\u001B[0m: dict.keys() takes no arguments (1 given)"
     ]
    }
   ],
   "source": [
    "objects_data.keys()"
   ],
   "metadata": {
    "collapsed": false,
    "pycharm": {
     "name": "#%%\n"
    }
   }
  },
  {
   "cell_type": "code",
   "execution_count": 13,
   "outputs": [],
   "source": [
    "objects_list = objects_data.get('data').get('list')"
   ],
   "metadata": {
    "collapsed": false,
    "pycharm": {
     "name": "#%%\n"
    }
   }
  },
  {
   "cell_type": "code",
   "execution_count": 5,
   "outputs": [],
   "source": [
    "objids = [x.get('objId') for x in objects_list]"
   ],
   "metadata": {
    "collapsed": false,
    "pycharm": {
     "name": "#%%\n"
    }
   }
  },
  {
   "cell_type": "code",
   "execution_count": 6,
   "outputs": [
    {
     "data": {
      "text/plain": "1000"
     },
     "execution_count": 6,
     "metadata": {},
     "output_type": "execute_result"
    }
   ],
   "source": [
    "len(objids)"
   ],
   "metadata": {
    "collapsed": false,
    "pycharm": {
     "name": "#%%\n"
    }
   }
  },
  {
   "cell_type": "code",
   "execution_count": 7,
   "outputs": [
    {
     "data": {
      "text/plain": "[19931, 6315, 30025, 9806, 32221, 6458, 9376, 6879, 29161, 7619]"
     },
     "execution_count": 7,
     "metadata": {},
     "output_type": "execute_result"
    }
   ],
   "source": [
    "objids[:10]"
   ],
   "metadata": {
    "collapsed": false,
    "pycharm": {
     "name": "#%%\n"
    }
   }
  },
  {
   "cell_type": "markdown",
   "source": [
    "# Данные по определенному объекту"
   ],
   "metadata": {
    "collapsed": false,
    "pycharm": {
     "name": "#%% md\n"
    }
   }
  },
  {
   "cell_type": "code",
   "execution_count": 8,
   "outputs": [],
   "source": [
    "url = f'https://xn--80az8a.xn--d1aqf.xn--p1ai/%D1%81%D0%B5%D1%80%D0%B2%D0%B8%D1%81%D1%8B/api/object/25002'"
   ],
   "metadata": {
    "collapsed": false,
    "pycharm": {
     "name": "#%%\n"
    }
   }
  },
  {
   "cell_type": "code",
   "execution_count": 9,
   "outputs": [
    {
     "data": {
      "text/plain": "{'data': {'id': 25002,\n  'pdId': 63825,\n  'developer': {'devId': 2666,\n   'devShortCleanNm': '10 КВАРТАЛ',\n   'devShortNm': '10 КВАРТАЛ',\n   'devFullCleanNm': '10 КВАРТАЛ',\n   'problObjCnt': 0,\n   'buildObjCnt': 1,\n   'comissObjCnt': 18,\n   'regRegionDesc': 'Московская область',\n   'devPhoneNum': '+7(495)107-91-24',\n   'devSite': 'www.mechta.su',\n   'devEmail': 'resnov@cmft.ru',\n   'devInn': '5050102110',\n   'devOgrn': '1135050000447',\n   'devKpp': '500701001',\n   'devLegalAddr': 'Московская область, город Дмитров, улица Весенняя дом 29 корпус - строение - комната 2',\n   'devFactAddr': 'обл Московская Дмитровский город Дмитров село Озерецкое д. 29 комната 2 50',\n   'lastRpdId': 539652,\n   'fundGuarantyFlg': 1,\n   'devOrgRegRegionCd': 50,\n   'devEmplMainFullNm': 'Меламуд Александр Романович',\n   'orgForm': {'id': 4,\n    'fullForm': 'Общество с ограниченной ответственностью',\n    'shortForm': 'ООО'},\n   'objGuarantyEscrowFlg': 0,\n   'govFundFlg': 0},\n  'region': 50,\n  'address': 'село Озерецкое, д. 30',\n  'nameObj': 'квартал застройки № 2.7 (строительный номер 10) участка № 1 (площадью 222,32 га)  в составе жилого поселения с объектами инфраструктуры (жилой комплекс \"Мечта\") в селе Озерецкое Дмитровского района Московской области.    ID объекта 25002',\n  'floorMin': 5,\n  'floorMax': 5,\n  'objElemLivingCnt': 98,\n  'objReady100PercDt': '2021-12-31',\n  'wallMaterialShortDesc': 'Кирпич',\n  'objLkFinishTypeDesc': 'По желанию заказчика',\n  'objLkFreePlanDesc': 'Нет',\n  'objElemParkingCnt': 0,\n  'objSquareLiving': 5487.8,\n  'rpdNum': '50-001681',\n  'rpdPdfLink': 'https://xn--80az8a.xn--d1aqf.xn--p1ai/api/ext/file/a3a057b9-3b1c-454b-a625-2738b0fd0db2',\n  'rpdIssueDttm': '28-12-2021 11:38',\n  'objLkLatitude': '56.0758',\n  'objLkLongitude': '37.3721',\n  'objCompensFundFlg': 1,\n  'objProblemFlg': 0,\n  'objLkClassDesc': 'Комфорт',\n  'loadDttm': '09-01-2022 01:09',\n  'photoRenderDTO': [{'objId': 25002,\n    'pdId': 63825,\n    'rpdId': 539652,\n    'devId': 2666,\n    'ordNum': 1,\n    'objRenderPhotoSize': 1484835,\n    'objRenderPhotoUrl': 'https://xn--80az8a.xn--d1aqf.xn--p1ai/api/ext/file/ad0a674d-1a3d-485a-bd32-b13ae100cb6e',\n    'objRenderPhotoDttm': '11-03-2019 15:29',\n    'objRenderPhotoHiddenFlg': 0,\n    'objRenderPhotoNm': 'm_kv10_pod_h30_12.jpg',\n    'objReadyDesc': 'Строится',\n    'objBuildTypeShortDesc': 'Жилое',\n    'knFlg': 1,\n    'loadDttm': '09-01-2022 00:56'}],\n  'objGuarantyEscrowFlg': 0,\n  'objectType': 'normal',\n  'miniUrl': 'https://xn--80az8a.xn--d1aqf.xn--p1ai/api/ext/file/6f70f554-73d7-42a5-94fa-877116c3dbb3',\n  'residentialBuildings': 1,\n  'newBuildingId': 24579,\n  'objFloorCnt': 5,\n  'objFlatCnt': 98,\n  'objFlatSq': '5487.8',\n  'objNonlivElemCnt': 0,\n  'quartography': {'objLivElem1KCnt': 19,\n   'objLivElem2KCnt': 61,\n   'objLivElem3KCnt': 18,\n   'objLivElem4KCnt': 0,\n   'objLivElemCnt': 98,\n   'objLivElemEntrCnt': 5,\n   'objLivElemEntrFloorAvg': 4},\n  'objStatus': 0,\n  'isAvailableWantLiveHere': True,\n  'objTransferPlanDt': '30-06-2022 12:00',\n  'objLivCeilingHeight': '2,7',\n  'objInfrstrBicycleLaneFlg': 0,\n  'objInfrstrPlaygrndCnt': 1,\n  'objInfrstrSportGroundCnt': 0,\n  'objInfrstrTrashAreaCnt': 1,\n  'objInfrstrObjPrkngCnt': 38,\n  'objInfrstrNotObjPrkngCnt': 55,\n  'objInfrstrRampFlg': 1,\n  'objInfrstrCurbLoweringFlg': 1,\n  'objElevatorWheelchairCnt': 5,\n  'objElevatorPassengerCnt': 0,\n  'objElevatorCargoCnt': 0,\n  'soldOutPerc': 0.922045264040235,\n  'objPriceAvg': 74457,\n  'generalContractorNm': 'ООО Отделка Мастер (ИНН: 5007081135)',\n  'nonlivFirstFloor': 0,\n  'objectTransportInfo': [],\n  'conclusion': False,\n  'objLkSaleDepEmail': 'sorokin@cmft.ru',\n  'objGreenHouseFlg': 0,\n  'objEnergyEffShortDesc': 'B'},\n 'errcode': '0'}"
     },
     "execution_count": 9,
     "metadata": {},
     "output_type": "execute_result"
    }
   ],
   "source": [
    "res = requests.get(url)\n",
    "res.json()"
   ],
   "metadata": {
    "collapsed": false,
    "pycharm": {
     "name": "#%%\n"
    }
   }
  },
  {
   "cell_type": "code",
   "execution_count": 9,
   "outputs": [],
   "source": [],
   "metadata": {
    "collapsed": false,
    "pycharm": {
     "name": "#%%\n"
    }
   }
  }
 ],
 "metadata": {
  "kernelspec": {
   "name": "pycharm-168f5327",
   "language": "python",
   "display_name": "PyCharm (ds-python)"
  },
  "language_info": {
   "codemirror_mode": {
    "name": "ipython",
    "version": 2
   },
   "file_extension": ".py",
   "mimetype": "text/x-python",
   "name": "python",
   "nbconvert_exporter": "python",
   "pygments_lexer": "ipython2",
   "version": "2.7.6"
  }
 },
 "nbformat": 4,
 "nbformat_minor": 0
}