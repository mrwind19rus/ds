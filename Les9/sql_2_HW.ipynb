{
 "cells": [
  {
   "cell_type": "code",
   "execution_count": 2,
   "metadata": {},
   "outputs": [],
   "source": [
    "import sqlite3\n",
    "import pandas as pd"
   ]
  },
  {
   "cell_type": "code",
   "execution_count": 3,
   "metadata": {},
   "outputs": [],
   "source": [
    "con = sqlite3.connect(\":memory:\")\n",
    "cur = con.cursor()"
   ]
  },
  {
   "cell_type": "markdown",
   "metadata": {},
   "source": [
    "https://www.cs.toronto.edu/~delve/data/boston/bostonDetail.html"
   ]
  },
  {
   "cell_type": "code",
   "execution_count": 4,
   "metadata": {},
   "outputs": [],
   "source": [
    "link = 'https://raw.githubusercontent.com/eric-bunch/boston_housing/master/boston.csv'"
   ]
  },
  {
   "cell_type": "code",
   "execution_count": 5,
   "metadata": {},
   "outputs": [],
   "source": [
    "data = pd.read_csv(link)\n",
    "data.rename(columns = {'MDEV':'MEDV'}, inplace=True)"
   ]
  },
  {
   "cell_type": "code",
   "execution_count": 6,
   "metadata": {},
   "outputs": [],
   "source": [
    "data.to_sql(\"boston\", con, index=False, if_exists=\"replace\")"
   ]
  },
  {
   "cell_type": "code",
   "execution_count": 7,
   "metadata": {
    "scrolled": true
   },
   "outputs": [
    {
     "data": {
      "text/plain": "       CRIM    ZN  INDUS  CHAS    NOX     RM   AGE     DIS  RAD    TAX  \\\n0   0.00632  18.0   2.31   0.0  0.538  6.575  65.2  4.0900  1.0  296.0   \n1   0.02731   0.0   7.07   0.0  0.469  6.421  78.9  4.9671  2.0  242.0   \n2   0.02729   0.0   7.07   0.0  0.469  7.185  61.1  4.9671  2.0  242.0   \n3   0.03237   0.0   2.18   0.0  0.458  6.998  45.8  6.0622  3.0  222.0   \n4   0.06905   0.0   2.18   0.0  0.458  7.147  54.2  6.0622  3.0  222.0   \n..      ...   ...    ...   ...    ...    ...   ...     ...  ...    ...   \n95  0.12204   0.0   2.89   0.0  0.445  6.625  57.8  3.4952  2.0  276.0   \n96  0.11504   0.0   2.89   0.0  0.445  6.163  69.6  3.4952  2.0  276.0   \n97  0.12083   0.0   2.89   0.0  0.445  8.069  76.0  3.4952  2.0  276.0   \n98  0.08187   0.0   2.89   0.0  0.445  7.820  36.9  3.4952  2.0  276.0   \n99  0.06860   0.0   2.89   0.0  0.445  7.416  62.5  3.4952  2.0  276.0   \n\n    PTRATIO       B  LSTAT  MEDV  \n0      15.3  396.90   4.98  24.0  \n1      17.8  396.90   9.14  21.6  \n2      17.8  392.83   4.03  34.7  \n3      18.7  394.63   2.94  33.4  \n4      18.7  396.90   5.33  36.2  \n..      ...     ...    ...   ...  \n95     18.0  357.98   6.65  28.4  \n96     18.0  391.83  11.34  21.4  \n97     18.0  396.90   4.21  38.7  \n98     18.0  393.53   3.57  43.8  \n99     18.0  396.90   6.19  33.2  \n\n[100 rows x 14 columns]",
      "text/html": "<div>\n<style scoped>\n    .dataframe tbody tr th:only-of-type {\n        vertical-align: middle;\n    }\n\n    .dataframe tbody tr th {\n        vertical-align: top;\n    }\n\n    .dataframe thead th {\n        text-align: right;\n    }\n</style>\n<table border=\"1\" class=\"dataframe\">\n  <thead>\n    <tr style=\"text-align: right;\">\n      <th></th>\n      <th>CRIM</th>\n      <th>ZN</th>\n      <th>INDUS</th>\n      <th>CHAS</th>\n      <th>NOX</th>\n      <th>RM</th>\n      <th>AGE</th>\n      <th>DIS</th>\n      <th>RAD</th>\n      <th>TAX</th>\n      <th>PTRATIO</th>\n      <th>B</th>\n      <th>LSTAT</th>\n      <th>MEDV</th>\n    </tr>\n  </thead>\n  <tbody>\n    <tr>\n      <th>0</th>\n      <td>0.00632</td>\n      <td>18.0</td>\n      <td>2.31</td>\n      <td>0.0</td>\n      <td>0.538</td>\n      <td>6.575</td>\n      <td>65.2</td>\n      <td>4.0900</td>\n      <td>1.0</td>\n      <td>296.0</td>\n      <td>15.3</td>\n      <td>396.90</td>\n      <td>4.98</td>\n      <td>24.0</td>\n    </tr>\n    <tr>\n      <th>1</th>\n      <td>0.02731</td>\n      <td>0.0</td>\n      <td>7.07</td>\n      <td>0.0</td>\n      <td>0.469</td>\n      <td>6.421</td>\n      <td>78.9</td>\n      <td>4.9671</td>\n      <td>2.0</td>\n      <td>242.0</td>\n      <td>17.8</td>\n      <td>396.90</td>\n      <td>9.14</td>\n      <td>21.6</td>\n    </tr>\n    <tr>\n      <th>2</th>\n      <td>0.02729</td>\n      <td>0.0</td>\n      <td>7.07</td>\n      <td>0.0</td>\n      <td>0.469</td>\n      <td>7.185</td>\n      <td>61.1</td>\n      <td>4.9671</td>\n      <td>2.0</td>\n      <td>242.0</td>\n      <td>17.8</td>\n      <td>392.83</td>\n      <td>4.03</td>\n      <td>34.7</td>\n    </tr>\n    <tr>\n      <th>3</th>\n      <td>0.03237</td>\n      <td>0.0</td>\n      <td>2.18</td>\n      <td>0.0</td>\n      <td>0.458</td>\n      <td>6.998</td>\n      <td>45.8</td>\n      <td>6.0622</td>\n      <td>3.0</td>\n      <td>222.0</td>\n      <td>18.7</td>\n      <td>394.63</td>\n      <td>2.94</td>\n      <td>33.4</td>\n    </tr>\n    <tr>\n      <th>4</th>\n      <td>0.06905</td>\n      <td>0.0</td>\n      <td>2.18</td>\n      <td>0.0</td>\n      <td>0.458</td>\n      <td>7.147</td>\n      <td>54.2</td>\n      <td>6.0622</td>\n      <td>3.0</td>\n      <td>222.0</td>\n      <td>18.7</td>\n      <td>396.90</td>\n      <td>5.33</td>\n      <td>36.2</td>\n    </tr>\n    <tr>\n      <th>...</th>\n      <td>...</td>\n      <td>...</td>\n      <td>...</td>\n      <td>...</td>\n      <td>...</td>\n      <td>...</td>\n      <td>...</td>\n      <td>...</td>\n      <td>...</td>\n      <td>...</td>\n      <td>...</td>\n      <td>...</td>\n      <td>...</td>\n      <td>...</td>\n    </tr>\n    <tr>\n      <th>95</th>\n      <td>0.12204</td>\n      <td>0.0</td>\n      <td>2.89</td>\n      <td>0.0</td>\n      <td>0.445</td>\n      <td>6.625</td>\n      <td>57.8</td>\n      <td>3.4952</td>\n      <td>2.0</td>\n      <td>276.0</td>\n      <td>18.0</td>\n      <td>357.98</td>\n      <td>6.65</td>\n      <td>28.4</td>\n    </tr>\n    <tr>\n      <th>96</th>\n      <td>0.11504</td>\n      <td>0.0</td>\n      <td>2.89</td>\n      <td>0.0</td>\n      <td>0.445</td>\n      <td>6.163</td>\n      <td>69.6</td>\n      <td>3.4952</td>\n      <td>2.0</td>\n      <td>276.0</td>\n      <td>18.0</td>\n      <td>391.83</td>\n      <td>11.34</td>\n      <td>21.4</td>\n    </tr>\n    <tr>\n      <th>97</th>\n      <td>0.12083</td>\n      <td>0.0</td>\n      <td>2.89</td>\n      <td>0.0</td>\n      <td>0.445</td>\n      <td>8.069</td>\n      <td>76.0</td>\n      <td>3.4952</td>\n      <td>2.0</td>\n      <td>276.0</td>\n      <td>18.0</td>\n      <td>396.90</td>\n      <td>4.21</td>\n      <td>38.7</td>\n    </tr>\n    <tr>\n      <th>98</th>\n      <td>0.08187</td>\n      <td>0.0</td>\n      <td>2.89</td>\n      <td>0.0</td>\n      <td>0.445</td>\n      <td>7.820</td>\n      <td>36.9</td>\n      <td>3.4952</td>\n      <td>2.0</td>\n      <td>276.0</td>\n      <td>18.0</td>\n      <td>393.53</td>\n      <td>3.57</td>\n      <td>43.8</td>\n    </tr>\n    <tr>\n      <th>99</th>\n      <td>0.06860</td>\n      <td>0.0</td>\n      <td>2.89</td>\n      <td>0.0</td>\n      <td>0.445</td>\n      <td>7.416</td>\n      <td>62.5</td>\n      <td>3.4952</td>\n      <td>2.0</td>\n      <td>276.0</td>\n      <td>18.0</td>\n      <td>396.90</td>\n      <td>6.19</td>\n      <td>33.2</td>\n    </tr>\n  </tbody>\n</table>\n<p>100 rows × 14 columns</p>\n</div>"
     },
     "execution_count": 7,
     "metadata": {},
     "output_type": "execute_result"
    }
   ],
   "source": [
    "pd.read_sql(\n",
    "    \"\"\"\n",
    "    SELECT * FROM boston\n",
    "    limit 100\n",
    "    \"\"\",\n",
    "    con,\n",
    ")"
   ]
  },
  {
   "cell_type": "code",
   "execution_count": 8,
   "outputs": [
    {
     "data": {
      "text/plain": "<bound method NDFrame.head of       CRIM    ZN  INDUS  CHAS    NOX     RM   AGE     DIS  RAD    TAX  \\\n0  0.00632  18.0   2.31   0.0  0.538  6.575  65.2  4.0900  1.0  296.0   \n1  0.02731   0.0   7.07   0.0  0.469  6.421  78.9  4.9671  2.0  242.0   \n2  0.02729   0.0   7.07   0.0  0.469  7.185  61.1  4.9671  2.0  242.0   \n3  0.03237   0.0   2.18   0.0  0.458  6.998  45.8  6.0622  3.0  222.0   \n4  0.06905   0.0   2.18   0.0  0.458  7.147  54.2  6.0622  3.0  222.0   \n\n   PTRATIO       B  LSTAT  MEDV  \n0     15.3  396.90   4.98  24.0  \n1     17.8  396.90   9.14  21.6  \n2     17.8  392.83   4.03  34.7  \n3     18.7  394.63   2.94  33.4  \n4     18.7  396.90   5.33  36.2  >"
     },
     "execution_count": 8,
     "metadata": {},
     "output_type": "execute_result"
    }
   ],
   "source": [
    "pd.read_sql(\n",
    "    \"\"\"\n",
    "    SELECT * FROM boston\n",
    "    limit 5\n",
    "    \"\"\",\n",
    "    con,\n",
    ").head"
   ],
   "metadata": {
    "collapsed": false,
    "pycharm": {
     "name": "#%%\n"
    }
   }
  },
  {
   "cell_type": "code",
   "execution_count": 8,
   "metadata": {},
   "outputs": [],
   "source": []
  },
  {
   "cell_type": "markdown",
   "metadata": {},
   "source": [
    "1. Выведите количество пустых значений по каждой из колонок (название колонки, кол-во пустых значений)"
   ]
  },
  {
   "cell_type": "code",
   "execution_count": 9,
   "metadata": {},
   "outputs": [
    {
     "data": {
      "text/plain": "   count(CRIM)  count(ZN)  count(INDUS)  count(CHAS)  count(NOX)  count(RM)  \\\n0            0          0             0            0           0          0   \n\n   count(AGE)  count(DIS)  count(RAD)  count(TAX)  count(PTRATIO)  count(B)  \\\n0           0           0           0           0               0         0   \n\n   count(LSTAT)  count(MEDV)  \n0             0            0  ",
      "text/html": "<div>\n<style scoped>\n    .dataframe tbody tr th:only-of-type {\n        vertical-align: middle;\n    }\n\n    .dataframe tbody tr th {\n        vertical-align: top;\n    }\n\n    .dataframe thead th {\n        text-align: right;\n    }\n</style>\n<table border=\"1\" class=\"dataframe\">\n  <thead>\n    <tr style=\"text-align: right;\">\n      <th></th>\n      <th>count(CRIM)</th>\n      <th>count(ZN)</th>\n      <th>count(INDUS)</th>\n      <th>count(CHAS)</th>\n      <th>count(NOX)</th>\n      <th>count(RM)</th>\n      <th>count(AGE)</th>\n      <th>count(DIS)</th>\n      <th>count(RAD)</th>\n      <th>count(TAX)</th>\n      <th>count(PTRATIO)</th>\n      <th>count(B)</th>\n      <th>count(LSTAT)</th>\n      <th>count(MEDV)</th>\n    </tr>\n  </thead>\n  <tbody>\n    <tr>\n      <th>0</th>\n      <td>0</td>\n      <td>0</td>\n      <td>0</td>\n      <td>0</td>\n      <td>0</td>\n      <td>0</td>\n      <td>0</td>\n      <td>0</td>\n      <td>0</td>\n      <td>0</td>\n      <td>0</td>\n      <td>0</td>\n      <td>0</td>\n      <td>0</td>\n    </tr>\n  </tbody>\n</table>\n</div>"
     },
     "execution_count": 9,
     "metadata": {},
     "output_type": "execute_result"
    }
   ],
   "source": [
    "pd.read_sql(\n",
    "    \"\"\"\n",
    "    SELECT count(CRIM), count(ZN), count(INDUS), count(CHAS), count(NOX), count(RM), count(AGE), count(DIS), count(RAD), count(TAX), count(PTRATIO), count(B), count(LSTAT), count(MEDV) FROM boston\n",
    "    where CRIM is null or ZN is null or INDUS is null or CHAS is null or NOX is null or RM is null or AGE is null or DIS is null or RAD is null or TAX is null or PTRATIO is null or B is null or LSTAT is null or MEDV is null\n",
    "    limit 5\n",
    "    \"\"\",\n",
    "    con,\n",
    ")"
   ]
  },
  {
   "cell_type": "markdown",
   "metadata": {},
   "source": [
    "2. Выведите количество уникальных значений по каждой из колонок (название колонки, кол-во уникальных значений)"
   ]
  },
  {
   "cell_type": "code",
   "execution_count": 10,
   "metadata": {},
   "outputs": [
    {
     "data": {
      "text/plain": "   count(distinct CRIM)  count(distinct ZN)  count(distinct INDUS)  \\\n0                   504                  26                     76   \n\n   count(distinct CHAS)  count(distinct NOX)  count(distinct RM)  \\\n0                     2                   81                 446   \n\n   count(distinct AGE)  count(distinct DIS)  count(distinct RAD)  \\\n0                  356                  412                    9   \n\n   count(distinct TAX)  count(distinct PTRATIO)  count(distinct B)  \\\n0                   66                       46                357   \n\n   count(distinct LSTAT)  count(distinct MEDV)  \n0                    455                   229  ",
      "text/html": "<div>\n<style scoped>\n    .dataframe tbody tr th:only-of-type {\n        vertical-align: middle;\n    }\n\n    .dataframe tbody tr th {\n        vertical-align: top;\n    }\n\n    .dataframe thead th {\n        text-align: right;\n    }\n</style>\n<table border=\"1\" class=\"dataframe\">\n  <thead>\n    <tr style=\"text-align: right;\">\n      <th></th>\n      <th>count(distinct CRIM)</th>\n      <th>count(distinct ZN)</th>\n      <th>count(distinct INDUS)</th>\n      <th>count(distinct CHAS)</th>\n      <th>count(distinct NOX)</th>\n      <th>count(distinct RM)</th>\n      <th>count(distinct AGE)</th>\n      <th>count(distinct DIS)</th>\n      <th>count(distinct RAD)</th>\n      <th>count(distinct TAX)</th>\n      <th>count(distinct PTRATIO)</th>\n      <th>count(distinct B)</th>\n      <th>count(distinct LSTAT)</th>\n      <th>count(distinct MEDV)</th>\n    </tr>\n  </thead>\n  <tbody>\n    <tr>\n      <th>0</th>\n      <td>504</td>\n      <td>26</td>\n      <td>76</td>\n      <td>2</td>\n      <td>81</td>\n      <td>446</td>\n      <td>356</td>\n      <td>412</td>\n      <td>9</td>\n      <td>66</td>\n      <td>46</td>\n      <td>357</td>\n      <td>455</td>\n      <td>229</td>\n    </tr>\n  </tbody>\n</table>\n</div>"
     },
     "execution_count": 10,
     "metadata": {},
     "output_type": "execute_result"
    }
   ],
   "source": [
    "pd.read_sql(\n",
    "    \"\"\"\n",
    "    SELECT count(distinct CRIM), count(distinct ZN), count(distinct INDUS), count(distinct CHAS), count(distinct NOX), count(distinct RM), count(distinct AGE), count(distinct DIS), count(distinct RAD), count(distinct TAX), count(distinct PTRATIO), count(distinct B), count(distinct LSTAT), count(distinct MEDV) FROM boston\n",
    "    limit 5\n",
    "    \"\"\",\n",
    "    con,\n",
    ")"
   ]
  },
  {
   "cell_type": "markdown",
   "metadata": {},
   "source": [
    "3. Выведите колонки, у которых медиана равна минимальному значению (название колонки).\n",
    "Напишите какой вывод можно сделать по данным в этих колонках"
   ]
  },
  {
   "cell_type": "code",
   "execution_count": 11,
   "metadata": {},
   "outputs": [
    {
     "data": {
      "text/plain": "   min_zn  med_zn  min_chas  med_chas\n0     0.0     0.0       0.0       0.0",
      "text/html": "<div>\n<style scoped>\n    .dataframe tbody tr th:only-of-type {\n        vertical-align: middle;\n    }\n\n    .dataframe tbody tr th {\n        vertical-align: top;\n    }\n\n    .dataframe thead th {\n        text-align: right;\n    }\n</style>\n<table border=\"1\" class=\"dataframe\">\n  <thead>\n    <tr style=\"text-align: right;\">\n      <th></th>\n      <th>min_zn</th>\n      <th>med_zn</th>\n      <th>min_chas</th>\n      <th>med_chas</th>\n    </tr>\n  </thead>\n  <tbody>\n    <tr>\n      <th>0</th>\n      <td>0.0</td>\n      <td>0.0</td>\n      <td>0.0</td>\n      <td>0.0</td>\n    </tr>\n  </tbody>\n</table>\n</div>"
     },
     "execution_count": 11,
     "metadata": {},
     "output_type": "execute_result"
    }
   ],
   "source": [
    "pd.read_sql(\n",
    "    \"\"\"\n",
    "    with min_med as (\n",
    "    SELECT\n",
    "    min(CRIM) as min_crim,\n",
    "    (SELECT CRIM as m_crim FROM boston ORDER BY CRIM LIMIT 1 OFFSET (SELECT COUNT(*) FROM boston) / 2) as med_crim,\n",
    "    min(ZN) as min_zn,\n",
    "    (SELECT ZN as m_crim FROM boston ORDER BY ZN LIMIT 1 OFFSET (SELECT COUNT(*) FROM boston) / 2) as med_zn,\n",
    "    min(INDUS) as min_indus,\n",
    "    (SELECT INDUS as m_crim FROM boston ORDER BY INDUS LIMIT 1 OFFSET (SELECT COUNT(*) FROM boston) / 2) as med_indus,\n",
    "    min(CHAS) as min_chas,\n",
    "    (SELECT CHAS as m_crim FROM boston ORDER BY CHAS LIMIT 1 OFFSET (SELECT COUNT(*) FROM boston) / 2) as med_chas,\n",
    "    min(NOX) as min_nox,\n",
    "    (SELECT NOX as m_crim FROM boston ORDER BY NOX LIMIT 1 OFFSET (SELECT COUNT(*) FROM boston) / 2) as med_nox,\n",
    "    min(RM) as min_rm,\n",
    "    (SELECT RM as m_crim FROM boston ORDER BY RM LIMIT 1 OFFSET (SELECT COUNT(*) FROM boston) / 2) as med_rm,\n",
    "    min(AGE) as min_age,\n",
    "    (SELECT AGE as m_crim FROM boston ORDER BY AGE LIMIT 1 OFFSET (SELECT COUNT(*) FROM boston) / 2) as med_age,\n",
    "    min(DIS) as min_dis,\n",
    "    (SELECT DIS as m_crim FROM boston ORDER BY DIS LIMIT 1 OFFSET (SELECT COUNT(*) FROM boston) / 2) as med_dis,\n",
    "    min(RAD) as min_rad,\n",
    "    (SELECT RAD as m_crim FROM boston ORDER BY RAD LIMIT 1 OFFSET (SELECT COUNT(*) FROM boston) / 2) as med_rad,\n",
    "    min(TAX) as min_tax,\n",
    "    (SELECT TAX as m_crim FROM boston ORDER BY TAX LIMIT 1 OFFSET (SELECT COUNT(*) FROM boston) / 2) as med_tax,\n",
    "    min(PTRATIO) as min_ptratio,\n",
    "    (SELECT PTRATIO as m_crim FROM boston ORDER BY PTRATIO LIMIT 1 OFFSET (SELECT COUNT(*) FROM boston) / 2) as med_ptratio,\n",
    "    min(B) as min_b,\n",
    "    (SELECT B as m_crim FROM boston ORDER BY B LIMIT 1 OFFSET (SELECT COUNT(*) FROM boston) / 2) as med_b,\n",
    "    min(LSTAT) as min_lstat,\n",
    "    (SELECT LSTAT as m_crim FROM boston ORDER BY LSTAT LIMIT 1 OFFSET (SELECT COUNT(*) FROM boston) / 2) as med_lstat,\n",
    "    min(MEDV) as min_medv,\n",
    "    (SELECT MEDV as m_crim FROM boston ORDER BY MEDV LIMIT 1 OFFSET (SELECT COUNT(*) FROM boston) / 2) as med_medv\n",
    "    from boston\n",
    "        limit 5)\n",
    "    select min_zn, med_zn, min_chas, med_chas from min_med\n",
    "\n",
    "    \"\"\",\n",
    "    con,\n",
    ")"
   ]
  },
  {
   "cell_type": "markdown",
   "metadata": {},
   "source": [
    "4. Выведите разницу между среднем количеством комнат(RM) в домах с самой дорогой стоимостью(MEDV) и 25 самыми дешевыми домами. \n",
    "Аналогично по 50, 100, 200, 300 самыми дешевыми домами. (кол-во домов(25,50,100,200,300), среднее кол-во комнат в них, среднее кол-во комнат в самых дорогих, разница).\n",
    "Напишите влияет ли кол-во комнат на стоимость и как сильно."
   ]
  },
  {
   "cell_type": "code",
   "execution_count": 77,
   "outputs": [
    {
     "data": {
      "text/plain": "   cnt_house     rvmin  rvmax    rvrazn\n0         25  6.130040  7.489  1.358960\n1         50  6.086760  7.489  1.402240\n2        100  6.234410  7.489  1.254590\n3        200  6.252390  7.489  1.236610\n4        300  6.420333  7.489  1.068667",
      "text/html": "<div>\n<style scoped>\n    .dataframe tbody tr th:only-of-type {\n        vertical-align: middle;\n    }\n\n    .dataframe tbody tr th {\n        vertical-align: top;\n    }\n\n    .dataframe thead th {\n        text-align: right;\n    }\n</style>\n<table border=\"1\" class=\"dataframe\">\n  <thead>\n    <tr style=\"text-align: right;\">\n      <th></th>\n      <th>cnt_house</th>\n      <th>rvmin</th>\n      <th>rvmax</th>\n      <th>rvrazn</th>\n    </tr>\n  </thead>\n  <tbody>\n    <tr>\n      <th>0</th>\n      <td>25</td>\n      <td>6.130040</td>\n      <td>7.489</td>\n      <td>1.358960</td>\n    </tr>\n    <tr>\n      <th>1</th>\n      <td>50</td>\n      <td>6.086760</td>\n      <td>7.489</td>\n      <td>1.402240</td>\n    </tr>\n    <tr>\n      <th>2</th>\n      <td>100</td>\n      <td>6.234410</td>\n      <td>7.489</td>\n      <td>1.254590</td>\n    </tr>\n    <tr>\n      <th>3</th>\n      <td>200</td>\n      <td>6.252390</td>\n      <td>7.489</td>\n      <td>1.236610</td>\n    </tr>\n    <tr>\n      <th>4</th>\n      <td>300</td>\n      <td>6.420333</td>\n      <td>7.489</td>\n      <td>1.068667</td>\n    </tr>\n  </tbody>\n</table>\n</div>"
     },
     "execution_count": 77,
     "metadata": {},
     "output_type": "execute_result"
    }
   ],
   "source": [
    "pd.read_sql(\n",
    "    \"\"\"\n",
    "   with\n",
    "   lim25 as(\n",
    "   select count(*) as cnt_house, avg(rm) as rvmin, (select rm from boston order by medv desc limit 1) as rvmax\n",
    "   from (select * from boston limit 25) as a),\n",
    "\n",
    "   lim50 as(\n",
    "   select count(*) as cnt_house, avg(rm) as rvmin, (select rm from boston order by medv desc limit 1) as rvmax\n",
    "   from (select * from boston limit 50) as a),\n",
    "\n",
    "   lim100 as(\n",
    "   select count(*) as cnt_house, avg(rm) as rvmin, (select rm from boston order by medv desc limit 1) as rvmax\n",
    "   from (select * from boston limit 100) as a),\n",
    "\n",
    "   lim200 as(\n",
    "   select count(*) as cnt_house, avg(rm) as rvmin, (select rm from boston order by medv desc limit 1) as rvmax\n",
    "   from (select * from boston limit 200) as a),\n",
    "\n",
    "   lim300 as(\n",
    "   select count(*) as cnt_house, avg(rm) as rvmin, (select rm from boston order by medv desc limit 1) as rvmax\n",
    "   from (select * from boston limit 300) as a),\n",
    "\n",
    "   limunion as (\n",
    "   select * from lim25\n",
    "   union all\n",
    "   select * from lim50\n",
    "   union all\n",
    "   select * from lim100\n",
    "   union all\n",
    "   select * from lim200\n",
    "   union all\n",
    "   select * from lim300\n",
    "   )\n",
    "\n",
    "    select cnt_house, rvmin, rvmax, (rvmax - rvmin) as rvrazn from limunion\n",
    "\n",
    "\n",
    "    \"\"\",\n",
    "    con,\n",
    ")\n",
    "# исходя из полученных результатов можно сделать вывод, что с учетом среднего количества комнат в домах увеличивается их стоимость. По мере удорожания стоимости квартиры аналогичным образом увеличивается среднее количество комнат, т.к. если начинать от минимума, то разница в комнатах составляет 1,3 комнаты, а увеличивая стоимость, разница в количестве комнат уже составляет примерно 1. Если пойти дальше, то со временем данные сравняются"
   ],
   "metadata": {
    "collapsed": false,
    "pycharm": {
     "name": "#%%\n"
    }
   }
  },
  {
   "cell_type": "markdown",
   "metadata": {},
   "source": [
    "5. Выведите ранги значений колонки LSTAT(процент населения с более низким статусом) в домах с самой дорогой стоимостью (значение LSTAT, стоимость, ранг). Напишите какой вывод можно сделать по этим данным."
   ]
  },
  {
   "cell_type": "code",
   "execution_count": 13,
   "metadata": {},
   "outputs": [
    {
     "data": {
      "text/plain": "     LSTAT  MEDV  rank_by_dept\n0     1.73  50.0             1\n1     1.92  50.0             2\n2     2.88  50.0             3\n3     2.96  50.0             4\n4     2.97  50.0             5\n..     ...   ...           ...\n501  36.98   7.0             2\n502  29.97   6.3             1\n503  26.77   5.6             1\n504  22.98   5.0             1\n505  30.59   5.0             2\n\n[506 rows x 3 columns]",
      "text/html": "<div>\n<style scoped>\n    .dataframe tbody tr th:only-of-type {\n        vertical-align: middle;\n    }\n\n    .dataframe tbody tr th {\n        vertical-align: top;\n    }\n\n    .dataframe thead th {\n        text-align: right;\n    }\n</style>\n<table border=\"1\" class=\"dataframe\">\n  <thead>\n    <tr style=\"text-align: right;\">\n      <th></th>\n      <th>LSTAT</th>\n      <th>MEDV</th>\n      <th>rank_by_dept</th>\n    </tr>\n  </thead>\n  <tbody>\n    <tr>\n      <th>0</th>\n      <td>1.73</td>\n      <td>50.0</td>\n      <td>1</td>\n    </tr>\n    <tr>\n      <th>1</th>\n      <td>1.92</td>\n      <td>50.0</td>\n      <td>2</td>\n    </tr>\n    <tr>\n      <th>2</th>\n      <td>2.88</td>\n      <td>50.0</td>\n      <td>3</td>\n    </tr>\n    <tr>\n      <th>3</th>\n      <td>2.96</td>\n      <td>50.0</td>\n      <td>4</td>\n    </tr>\n    <tr>\n      <th>4</th>\n      <td>2.97</td>\n      <td>50.0</td>\n      <td>5</td>\n    </tr>\n    <tr>\n      <th>...</th>\n      <td>...</td>\n      <td>...</td>\n      <td>...</td>\n    </tr>\n    <tr>\n      <th>501</th>\n      <td>36.98</td>\n      <td>7.0</td>\n      <td>2</td>\n    </tr>\n    <tr>\n      <th>502</th>\n      <td>29.97</td>\n      <td>6.3</td>\n      <td>1</td>\n    </tr>\n    <tr>\n      <th>503</th>\n      <td>26.77</td>\n      <td>5.6</td>\n      <td>1</td>\n    </tr>\n    <tr>\n      <th>504</th>\n      <td>22.98</td>\n      <td>5.0</td>\n      <td>1</td>\n    </tr>\n    <tr>\n      <th>505</th>\n      <td>30.59</td>\n      <td>5.0</td>\n      <td>2</td>\n    </tr>\n  </tbody>\n</table>\n<p>506 rows × 3 columns</p>\n</div>"
     },
     "execution_count": 13,
     "metadata": {},
     "output_type": "execute_result"
    }
   ],
   "source": [
    "pd.read_sql(\n",
    "    \"\"\"\n",
    "    SELECT lstat,\n",
    "    medv,\n",
    "    rank() OVER (PARTITION BY medv ORDER BY lstat) rank_by_dept\n",
    "    FROM boston\n",
    "    order by medv desc\n",
    "\n",
    "    \"\"\",\n",
    "    con,\n",
    ")\n",
    "#Исходя из результатов можно сделать вывод, что чем большее количество населения с низким статусом проживает в более дорогих домах, тем их ранг в выборке ниже"
   ]
  },
  {
   "cell_type": "markdown",
   "metadata": {},
   "source": [
    "6. Выведите среднюю стоимость домов граничащих с рекой(CHAS) и нет (граничит/не граничит, стоимость)"
   ]
  },
  {
   "cell_type": "code",
   "execution_count": 14,
   "metadata": {},
   "outputs": [
    {
     "data": {
      "text/plain": "   house_cost border_river\n0   22.093843  Не граничит\n1   28.440000     Граничит",
      "text/html": "<div>\n<style scoped>\n    .dataframe tbody tr th:only-of-type {\n        vertical-align: middle;\n    }\n\n    .dataframe tbody tr th {\n        vertical-align: top;\n    }\n\n    .dataframe thead th {\n        text-align: right;\n    }\n</style>\n<table border=\"1\" class=\"dataframe\">\n  <thead>\n    <tr style=\"text-align: right;\">\n      <th></th>\n      <th>house_cost</th>\n      <th>border_river</th>\n    </tr>\n  </thead>\n  <tbody>\n    <tr>\n      <th>0</th>\n      <td>22.093843</td>\n      <td>Не граничит</td>\n    </tr>\n    <tr>\n      <th>1</th>\n      <td>28.440000</td>\n      <td>Граничит</td>\n    </tr>\n  </tbody>\n</table>\n</div>"
     },
     "execution_count": 14,
     "metadata": {},
     "output_type": "execute_result"
    }
   ],
   "source": [
    "pd.read_sql(\n",
    "    \"\"\"\n",
    "    SELECT avg(medv) as house_cost, case chas when '1.0' then 'Граничит' else 'Не граничит' end as border_river FROM boston\n",
    "    group by chas\n",
    "    limit 50\n",
    "    \"\"\",\n",
    "    con,\n",
    ")"
   ]
  },
  {
   "cell_type": "markdown",
   "metadata": {},
   "source": [
    "7. Выведите все колонки, у которых среднее значение выше, когда дом граничит с рекой (название колонки). Напишите какой вывод можно сделать по этим данным."
   ]
  },
  {
   "cell_type": "code",
   "execution_count": 16,
   "outputs": [
    {
     "data": {
      "text/plain": "   avg_crim    avg_zn   avg_dis   avg_rad    avg_tax  avg_ptratio  avg_lstat\n0   1.74209  3.649351  0.765334  0.235121  21.980011     0.964105   1.411349",
      "text/html": "<div>\n<style scoped>\n    .dataframe tbody tr th:only-of-type {\n        vertical-align: middle;\n    }\n\n    .dataframe tbody tr th {\n        vertical-align: top;\n    }\n\n    .dataframe thead th {\n        text-align: right;\n    }\n</style>\n<table border=\"1\" class=\"dataframe\">\n  <thead>\n    <tr style=\"text-align: right;\">\n      <th></th>\n      <th>avg_crim</th>\n      <th>avg_zn</th>\n      <th>avg_dis</th>\n      <th>avg_rad</th>\n      <th>avg_tax</th>\n      <th>avg_ptratio</th>\n      <th>avg_lstat</th>\n    </tr>\n  </thead>\n  <tbody>\n    <tr>\n      <th>0</th>\n      <td>1.74209</td>\n      <td>3.649351</td>\n      <td>0.765334</td>\n      <td>0.235121</td>\n      <td>21.980011</td>\n      <td>0.964105</td>\n      <td>1.411349</td>\n    </tr>\n  </tbody>\n</table>\n</div>"
     },
     "execution_count": 16,
     "metadata": {},
     "output_type": "execute_result"
    }
   ],
   "source": [
    "pd.read_sql(\n",
    "    \"\"\"\n",
    "    with average as (\n",
    "       SELECT\n",
    "    avg(CRIM) as avg_crim,\n",
    "    (select avg(crim) from boston where chas = 1.0) as river_crim,\n",
    "    avg(ZN) as avg_zn,\n",
    "    (select avg(ZN) from boston where chas = 1.0) as river_zn,\n",
    "    avg(INDUS) as avg_indus,\n",
    "    (select avg(INDUS) from boston where chas = 1.0) as river_indus,\n",
    "    avg(CHAS) as avg_chas,\n",
    "    (select avg(CHAS) from boston where chas = 1.0) as river_chas,\n",
    "    avg(NOX) as avg_nox,\n",
    "    (select avg(NOX) from boston where chas = 1.0) as river_nox,\n",
    "    avg(RM) as avg_rm,\n",
    "    (select avg(RM) from boston where chas = 1.0) as river_rm,\n",
    "    avg(AGE) as avg_age,\n",
    "    (select avg(AGE) from boston where chas = 1.0) as river_age,\n",
    "    avg(DIS) as avg_dis,\n",
    "    (select avg(DIS) from boston where chas = 1.0) as river_dis,\n",
    "    avg(RAD) as avg_rad,\n",
    "    (select avg(RAD) from boston where chas = 1.0) as river_rad,\n",
    "    avg(TAX) as avg_tax,\n",
    "    (select avg(TAX) from boston where chas = 1.0) as river_tax,\n",
    "    avg(PTRATIO) as avg_ptratio,\n",
    "    (select avg(PTRATIO) from boston where chas = 1.0) as river_ptratio,\n",
    "    avg(B) as avg_b,\n",
    "    (select avg(B) from boston where chas = 1.0) as river_b,\n",
    "    avg(LSTAT) as avg_lstat,\n",
    "    (select avg(LSTAT) from boston where chas = 1.0) as river_lstat,\n",
    "    avg(MEDV) as avg_medv,\n",
    "    (select avg(MEDV) from boston where chas = 1.0) as river_medv\n",
    "    from boston)\n",
    "\n",
    "\n",
    "    select\n",
    "    (avg_crim - river_crim) as avg_crim,\n",
    "    (avg_zn - river_zn) as avg_zn,\n",
    "    (avg_dis - river_dis) as avg_dis,\n",
    "    (avg_rad - river_rad) as avg_rad,\n",
    "    (avg_tax - river_tax) as avg_tax,\n",
    "    (avg_ptratio - river_ptratio) as avg_ptratio,\n",
    "    (avg_lstat - river_lstat) as avg_lstat\n",
    "    from average\n",
    "\n",
    "    \"\"\",\n",
    "    con,\n",
    ")\n",
    "#В домах, находящихся возле реки средне количество преступности на душу населения больше обычного на 1.74209\n",
    "#В домах, находящихся возле реки средняя доля земель под жилую застройку зонирована под участки площадью более 25 000 кв. футов больше обычного на 3.649351\n",
    "#В домах, находящихся возле реки средние взвешенные расстояния до пяти центров занятости Бостона больше обычного на 0.765334\n",
    "#В домах, находящихся возле реки средний индекс доступности к радиальным магистралям больше обычного на 0.235121\n",
    "#В домах, находящихся возле реки средняя полная ставка налога на имущество за 10 000 долларов США больше обычного на 21.980011\n",
    "#В домах, находящихся возле реки среднее соотношение учеников и учителей по городам больше обычного на 0.964105\n",
    "#В домах, находящихся возле реки средний % более низкого статуса населения больше обычного на 1.411349\n",
    "\n",
    "#Ввиду того, что самым выделяющимся параметром является TAX - полная ставка налога на имущество за 10 000 долларов США - можно предположить, что в США\n",
    "#на дома, который находятся около реки распространяется более высокая налоговая ставка. Также параметр ZN говрит о том, что более большие площади для строительства\n",
    "#могут позволить себе более богатые люди, но при этом из-за высокого налога они становятся более бедными. Количество чернокожих людей в этих районах ниже среднего"
   ],
   "metadata": {
    "collapsed": false,
    "pycharm": {
     "name": "#%%\n"
    }
   }
  },
  {
   "cell_type": "markdown",
   "metadata": {},
   "source": [
    "8. Выведите значения долей промышленной застройки(INDUS), концентрации оксидов азота(NOX) и по их перцентилям - 10, 20 ... 100 ( перцетиль(10,20...100),значение INDUS, значение NOX). Напишите прослеживается между ними взаимосвязь"
   ]
  },
  {
   "cell_type": "code",
   "execution_count": 88,
   "metadata": {},
   "outputs": [
    {
     "data": {
      "text/plain": "   percentile  INDUS    NOX\n0          10   0.46  0.422\n1          20   2.93  0.401\n2          30   4.39  0.442\n3          40   5.96  0.499\n4          50   7.38  0.493\n5          60   9.69  0.585\n6          70  13.89  0.550\n7          80  18.10  0.693\n8          90  18.10  0.740\n9         100  19.58  0.871",
      "text/html": "<div>\n<style scoped>\n    .dataframe tbody tr th:only-of-type {\n        vertical-align: middle;\n    }\n\n    .dataframe tbody tr th {\n        vertical-align: top;\n    }\n\n    .dataframe thead th {\n        text-align: right;\n    }\n</style>\n<table border=\"1\" class=\"dataframe\">\n  <thead>\n    <tr style=\"text-align: right;\">\n      <th></th>\n      <th>percentile</th>\n      <th>INDUS</th>\n      <th>NOX</th>\n    </tr>\n  </thead>\n  <tbody>\n    <tr>\n      <th>0</th>\n      <td>10</td>\n      <td>0.46</td>\n      <td>0.422</td>\n    </tr>\n    <tr>\n      <th>1</th>\n      <td>20</td>\n      <td>2.93</td>\n      <td>0.401</td>\n    </tr>\n    <tr>\n      <th>2</th>\n      <td>30</td>\n      <td>4.39</td>\n      <td>0.442</td>\n    </tr>\n    <tr>\n      <th>3</th>\n      <td>40</td>\n      <td>5.96</td>\n      <td>0.499</td>\n    </tr>\n    <tr>\n      <th>4</th>\n      <td>50</td>\n      <td>7.38</td>\n      <td>0.493</td>\n    </tr>\n    <tr>\n      <th>5</th>\n      <td>60</td>\n      <td>9.69</td>\n      <td>0.585</td>\n    </tr>\n    <tr>\n      <th>6</th>\n      <td>70</td>\n      <td>13.89</td>\n      <td>0.550</td>\n    </tr>\n    <tr>\n      <th>7</th>\n      <td>80</td>\n      <td>18.10</td>\n      <td>0.693</td>\n    </tr>\n    <tr>\n      <th>8</th>\n      <td>90</td>\n      <td>18.10</td>\n      <td>0.740</td>\n    </tr>\n    <tr>\n      <th>9</th>\n      <td>100</td>\n      <td>19.58</td>\n      <td>0.871</td>\n    </tr>\n  </tbody>\n</table>\n</div>"
     },
     "execution_count": 88,
     "metadata": {},
     "output_type": "execute_result"
    }
   ],
   "source": [
    "pd.read_sql(\n",
    "    \"\"\"\n",
    "   with prc as (\n",
    "   SELECT INDUS, NOX, NTILE(10) OVER(ORDER BY INDUS) as percen FROM boston\n",
    "   )\n",
    "   select percen * 10 as percentile, INDUS, NOX from prc group by percentile\n",
    "\n",
    "    \"\"\",\n",
    "    con,\n",
    ")\n",
    "#Исходя из полученных результатов можно сделать вывод о том, что с увеличением количества промышленной застройки относительно пропорционально увеличивается и количество концентрации оксидов азота"
   ]
  },
  {
   "cell_type": "raw",
   "metadata": {},
   "source": [
    "CRIM - уровень преступности на душу населения\n",
    "ZN - доля земель под жилую застройку зонирована под участки площадью более 25 000 кв. футов.\n",
    "INDUS - доля акров неторгового бизнеса на город.\n",
    "CHAS - 1, если граничит с рекой, 0 иначе\n",
    "NOX - концентрация оксидов азота (частей на 10 миллионов)\n",
    "RM - среднее количество комнат в квартире\n",
    "AGE - доля жилых домов, построенных до 1940 г.\n",
    "DIS - взвешенные расстояния до пяти центров занятости Бостона\n",
    "RAD - индекс доступности к радиальным магистралям\n",
    "TAX - полная ставка налога на имущество за 10 000 долларов США\n",
    "PTRATIO - соотношение учеников и учителей по городам\n",
    "B - 1000(Bk - 0.63)^2, где Bk доля чернокожих людей по городам\n",
    "LSTAT - % более низкого статуса населения\n",
    "MEDV - Средняя стоимость домов в 1000 долларов."
   ]
  },
  {
   "cell_type": "code",
   "execution_count": 17,
   "metadata": {},
   "outputs": [],
   "source": []
  }
 ],
 "metadata": {
  "kernelspec": {
   "name": "python3",
   "language": "python",
   "display_name": "Python 3 (ipykernel)"
  },
  "language_info": {
   "codemirror_mode": {
    "name": "ipython",
    "version": 3
   },
   "file_extension": ".py",
   "mimetype": "text/x-python",
   "name": "python",
   "nbconvert_exporter": "python",
   "pygments_lexer": "ipython3",
   "version": "3.7.6"
  }
 },
 "nbformat": 4,
 "nbformat_minor": 4
}